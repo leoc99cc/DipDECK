{
 "cells": [
  {
   "cell_type": "code",
   "execution_count": 4,
   "id": "264b8d2d-17b5-4809-941b-e558ad4fc984",
   "metadata": {},
   "outputs": [],
   "source": [
    "import numpy as np\n",
    "from unidip.dip import diptst\n",
    "import matplotlib.pyplot as plt\n",
    "from tqdm import tqdm"
   ]
  },
  {
   "cell_type": "code",
   "execution_count": 5,
   "id": "42a7da94-49d1-4754-95aa-29203a207c3a",
   "metadata": {},
   "outputs": [],
   "source": [
    "from sklearn.cluster import KMeans"
   ]
  },
  {
   "cell_type": "code",
   "execution_count": 2,
   "id": "6b64a779-1cb4-42b7-8029-2049020f048a",
   "metadata": {},
   "outputs": [],
   "source": [
    "import tensorflow as tf\n",
    "import keras\n",
    "import keras.backend as K\n",
    "from keras import layers, regularizers\n",
    "from numba import cuda"
   ]
  },
  {
   "cell_type": "code",
   "execution_count": 1,
   "id": "2eea0424-e9c5-4a3b-9934-b3b3d5fd656e",
   "metadata": {},
   "outputs": [],
   "source": [
    "class Autoencoder:\n",
    "    def __init__(self, d,  m=5):\n",
    "        self.encoder_input = keras.Input(shape=(d,))\n",
    "        self.encoder_hidden = layers.Dense(500, activation='relu')(self.encoder_input)\n",
    "        self.encoder_hidden = layers.Dense(500, activation='relu')(self.encoder_hidden)\n",
    "        self.encoder_hidden = layers.Dense(2000, activation='relu')(self.encoder_hidden)\n",
    "        self.encoder_output = layers.Dense(m, activation='relu')(self.encoder_hidden)\n",
    "        self.encoder = keras.Model(self.encoder_input, self.encoder_output, name=\"encoder\")\n",
    "\n",
    "        self.decoder_input = keras.Input(shape=(m,))\n",
    "        self.decoder_hidden = layers.Dense(2000, activation='relu')(self.decoder_input)\n",
    "        self.decoder_hidden = layers.Dense(500, activation='relu')(self.decoder_hidden)\n",
    "        self.decoder_hidden = layers.Dense(500, activation='relu')(self.decoder_hidden)\n",
    "        self.decoder_output = layers.Dense(d, activation='sigmoid')(self.decoder_hidden)\n",
    "        self.decoder = keras.Model(self.decoder_input, self.decoder_output, name=\"decoder\")\n",
    "\n",
    "        self.autoencoder_input = keras.Input(shape=(d,))\n",
    "        self.autoencoder_output = self.decoder(self.encoder(self.autoencoder_input))\n",
    "        self.autoencoder = keras.Model(self.autoencoder_input,self.autoencoder_output, name=\"autoencoder\")\n",
    "        \n",
    "    def fit(self, data, loss, epochs=100, batch_size=256, learning_rate=0.001):\n",
    "        opt = keras.optimizers.adam_v2.Adam(learning_rate=learning_rate)\n",
    "        self.autoencoder.compile(optimizer=opt, loss=loss)\n",
    "        self.autoencoder.fit(data, data,\n",
    "                             epochs=epochs,\n",
    "                             batch_size=batch_size,\n",
    "                             shuffle=True,)\n",
    "        \n",
    "    def encode(self, data):\n",
    "        return self.encoder(data)\n",
    "    \n",
    "    def decode(self, data):\n",
    "        return self.decoder(data)"
   ]
  },
  {
   "cell_type": "code",
   "execution_count": 3,
   "id": "46a8148a-cfa9-4e7c-8c43-cecc97b4ed84",
   "metadata": {},
   "outputs": [],
   "source": [
    "class DipDECK:\n",
    "    def __init__(self, data, k_init=35, P_threshold=0.9, N_EPOCHS=100, N_BATCHSIZE=256):\n",
    "        self.P_threshold = P_threshold\n",
    "        self.batch_size = N_BATCHSIZE\n",
    "        self.data = data\n",
    "        self.N_DATA, self.N_FEATURE = data.shape\n",
    "        self.k = k_init\n",
    "        print('******************** pre-training AE ********************')\n",
    "        self.AE = Autoencoder(self.N_FEATURE)\n",
    "        self.AE.fit(data, self.L_rec, epochs=N_EPOCHS, batch_size=N_BATCHSIZE, learning_rate=0.001)\n",
    "        print('******************** apply Kmeans ********************')\n",
    "        self.Km_model = KMeans(self.k)\n",
    "        self.Km_model.fit(self.AE.encode(data))\n",
    "        self.kmCentres, self.labels = self.Km_model.cluster_centers_, self.Km_model.labels_\n",
    "        print('********** finding closest points to kmCentres **********')\n",
    "        self.centres = self.find_centres1()\n",
    "        # print('******************** building DipMatrix ********************')\n",
    "        self.DipMatrix = self.build_DipMatrix()\n",
    "#         print(self.DipMatrix)\n",
    "        print('******************** Batch optimizing ********************')\n",
    "        self.Batch_optimize()\n",
    "        \n",
    "    def Batch_optimize(self, epochs=50, batch_size=256):\n",
    "        i = 0\n",
    "        while i<epochs:\n",
    "            print(f'********** epoch {i+1} of {epochs} **********')\n",
    "            random_perm = np.random.permutation(self.N_DATA)\n",
    "            mini_batch_index = 0\n",
    "            while True:\n",
    "                self.indices = random_perm[mini_batch_index:mini_batch_index + batch_size]\n",
    "                if i!=0:\n",
    "                    self.update_labels(self.indices)\n",
    "                self.AE.fit(self.data[self.indices], self.L, epochs=1, batch_size=batch_size, learning_rate=0.0001)\n",
    "                print(f'Lrec: {self.L_rec(self.data[self.indices])}')\n",
    "                print(f'Lclu: {self.L_clu(self.data[self.indices])}')\n",
    "                print(f'L: {self.L(self.data[self.indices])}')\n",
    "#                 print(self.AE.encode(self.centres))\n",
    "                mini_batch_index += batch_size\n",
    "                if mini_batch_index >= self.N_DATA:\n",
    "                    break\n",
    "            self.update_labels(range(self.k))\n",
    "            self.centres = self.find_centres2()\n",
    "            self.DipMatrix = self.build_DipMatrix()\n",
    "#             print(self.DipMatrix)\n",
    "            while np.max(self.DipMatrix-np.identity(self.k))>=self.P_threshold:\n",
    "                self.k -= 1\n",
    "                print(f'********** merging (remain {self.k}) **********')\n",
    "                argmax = np.argmax(self.DipMatrix-np.identity(self.k+1))\n",
    "                Ci, Cj = argmax//self.DipMatrix.shape[1], argmax%self.DipMatrix.shape[1]\n",
    "                Ci, Cj = (Ci, Cj) if Ci<=Cj else (Cj, Ci)\n",
    "                self.labels[self.labels==Cj] = Ci\n",
    "                self.labels[self.labels>Cj] = self.labels[self.labels>Cj]-1\n",
    "                new_centre = self.find_merged_centre(Ci, Cj)\n",
    "                self.centres[Ci] = new_centre\n",
    "                self.centres = np.delete(self.centres, Cj, 0)\n",
    "                self.DipMatrix = self.update_DipMatrix(Ci, Cj)\n",
    "#                 print(self.DipMatrix)\n",
    "                i = 0\n",
    "            i += 1\n",
    "        \n",
    "    def L_rec(self, y, y_pred=None):\n",
    "#         return keras.losses.mean_squared_error(y, y_pred)\n",
    "        return K.mean(K.sum(K.square(y - self.AE.decode(self.AE.encode(y))), axis=1))\n",
    "    \n",
    "    def L_clu(self, y, y_pred=None):\n",
    "        specific_PMetrix = self.create_specific_PMetrix()\n",
    "        encoded_centres = self.AE.encode(self.centres)\n",
    "        r = K.sum(K.square(encoded_centres), axis=1)\n",
    "        Dc = K.sqrt(K.transpose(r+tf.matmul(encoded_centres, K.transpose(encoded_centres)))+r)\n",
    "        mean = K.sum(Dc)/(self.k**2-self.k)\n",
    "        std = K.sqrt(K.sum(K.square(Dc-mean))/(self.k**2-self.k))\n",
    "        return ((1+std)/mean)*K.mean(K.sum(specific_PMetrix*tf.transpose(K.sum(K.square(self.AE.encode(y)-tf.expand_dims(encoded_centres,1)), axis=-1)), axis=-1))\n",
    "#         return K.mean(K.sum(specific_PMetrix*tf.transpose(K.sum(K.square(self.AE.encode(y)-tf.expand_dims(encoded_centres,1)), axis=-1)), axis=-1))\n",
    "    \n",
    "    def L(self, y, y_pred=None):\n",
    "        return self.L_rec(y, y_pred) + self.L_clu(y, y_pred)\n",
    "        \n",
    "#     def Dist_centres(self):\n",
    "#         encoded_centres = self.AE.encode(self.centres)\n",
    "#         r = tf.reduce_sum(encoded_centres*encoded_centres, 1)\n",
    "        \n",
    "#         r = tf.reshape(r, [-1, 1])\n",
    "#         D = tf.sqrt(r - 2*tf.matmul(encoded_centres, tf.transpose(encoded_centres)) + tf.transpose(r))\n",
    "#         return D\n",
    "    \n",
    "    def create_specific_PMetrix(self):\n",
    "        DipMatrix = self.Matrix2affine(self.DipMatrix)\n",
    "        metrix = np.zeros((len(self.indices), DipMatrix.shape[1]), np.float32)\n",
    "        i = 0\n",
    "        for idx in self.indices:\n",
    "            metrix[i] = DipMatrix[self.labels[idx]]\n",
    "            i += 1\n",
    "        return metrix\n",
    "    \n",
    "    def find_centres1(self):\n",
    "        centres = []\n",
    "        for kmCentre in self.kmCentres:\n",
    "            dist = K.sum(K.square(self.AE.encode(self.data)-kmCentre), axis=1)\n",
    "            centres.append(self.data[K.argmin(dist)])\n",
    "        return np.array(centres)\n",
    "    \n",
    "    def find_centres2(self):\n",
    "        encoded_data = self.AE.encode(self.data)\n",
    "        centres = []\n",
    "        for i in range(self.k):\n",
    "            centre_ = K.mean(encoded_data[self.labels==i], axis=0)\n",
    "            dist = K.sum(K.square(encoded_data-centre_), axis=1)\n",
    "            centres.append(self.data[K.argmin(dist)])\n",
    "        return np.array(centres)\n",
    "    \n",
    "    def find_merged_centre(self, Ci, Cj):\n",
    "        data_CiCj = self.data[np.logical_or(self.labels==Ci,self.labels==Cj)]\n",
    "        encoded_data_CiCj = self.AE.encode(data_CiCj)\n",
    "        encoded_centres = self.AE.encode(self.centres)\n",
    "        centre_Ci, centre_Cj = encoded_centres[Ci], encoded_centres[Cj]\n",
    "        N_Ci, N_Cj = np.sum(self.labels==Ci), np.sum(self.labels==Cj)\n",
    "        weighted_centre = (N_Ci*centre_Ci+N_Cj*centre_Cj)/(N_Ci+N_Cj)\n",
    "        print(encoded_data_CiCj.shape, weighted_centre.shape)\n",
    "        dist = np.sum(np.square(encoded_data_CiCj-weighted_centre), axis=-1)\n",
    "        return data_CiCj[np.argmin(dist)]\n",
    "    \n",
    "    def build_DipMatrix(self):\n",
    "        print(f'******************** building DipMatrix ********************')\n",
    "        dip_matrix = np.identity(self.k)\n",
    "        encoded_data = self.AE.encode(self.data)\n",
    "        encoded_centres = self.AE.encode(self.centres)\n",
    "        with tqdm(total=self.k*(self.k-1)//2) as pbar:\n",
    "            for i in range(self.k):\n",
    "                for j in range(i+1,self.k):\n",
    "                    points = encoded_data[np.logical_or(self.labels==i,self.labels==j)]\n",
    "                    C_1d = np.sum(points*(encoded_centres[i]-encoded_centres[j]), axis=-1)\n",
    "                    dip_matrix[i,j] = dip_matrix[j,i] = diptst(C_1d)[1] if C_1d.size>=5 else 0\n",
    "                    N_Ci, N_Cj = np.sum(self.labels==i), np.sum(self.labels==j)\n",
    "                    (Ci, Cj, N_Ci, N_Cj) = (i, j, N_Ci, N_Cj) if N_Ci<=N_Cj else (j, i, N_Cj, N_Ci)\n",
    "                    if N_Cj>2*N_Ci:\n",
    "                        points_Cj = encoded_data[self.labels==Cj]\n",
    "                        dist2Ci = np.sum(np.square(points_Cj-encoded_centres[Ci]), axis=-1)\n",
    "                        partition_points_Cj = points_Cj[dist2Ci<=np.partition(dist2Ci,2*N_Ci)[2*N_Ci-1]]\n",
    "                        points = np.concatenate([encoded_data[self.labels==Ci], partition_points_Cj])\n",
    "                        C_1d = np.sum(points*(encoded_centres[i]-encoded_centres[j]), axis=-1)\n",
    "                        p_value = diptst(C_1d)[1]\n",
    "                        p_value = p_value if p_value else 0\n",
    "                        dip_matrix[i,j] = dip_matrix[j,i] = min(dip_matrix[i,j], p_value)\n",
    "                    pbar.update(1)\n",
    "        return dip_matrix\n",
    "    \n",
    "    def update_DipMatrix(self, idx, jdx):\n",
    "        print(f'******************** updating DipMatrix ********************')\n",
    "        dip_matrix = np.delete(np.delete(self.DipMatrix, jdx, axis=0), jdx, axis=1)\n",
    "        encoded_data = self.AE.encode(self.data)\n",
    "        encoded_centres = self.AE.encode(self.centres)\n",
    "        with tqdm(total=self.k-1) as pbar:\n",
    "            for j in range(self.k):\n",
    "                if j==idx:\n",
    "                    continue\n",
    "                points = encoded_data[np.logical_or(self.labels==idx,self.labels==j)]\n",
    "                C_1d = np.sum(points*(encoded_centres[idx]-encoded_centres[j]), axis=-1)\n",
    "                dip_matrix[idx,j] = dip_matrix[j,idx] = diptst(C_1d)[1] if C_1d.size>=5 else 0\n",
    "                N_Ci, N_Cj = np.sum(self.labels==idx), np.sum(self.labels==j)\n",
    "                (Ci, Cj, N_Ci, N_Cj) = (idx, j, N_Ci, N_Cj) if N_Ci<=N_Cj else (j, idx, N_Cj, N_Ci)\n",
    "                if N_Cj>2*N_Ci:\n",
    "                    points_Cj = encoded_data[self.labels==Cj]\n",
    "                    dist2Ci = np.sum(np.square(points_Cj-encoded_centres[Ci]), axis=-1)\n",
    "                    partition_points_Cj = points_Cj[dist2Ci<=np.partition(dist2Ci,2*N_Ci)[2*N_Ci-1]]\n",
    "                    points = np.concatenate([encoded_data[self.labels==Ci], partition_points_Cj])\n",
    "                    C_1d = np.sum(points*(encoded_centres[idx]-encoded_centres[j]), axis=-1)\n",
    "                    p_value = diptst(C_1d)[1]\n",
    "                    p_value = p_value if p_value else 0\n",
    "                    dip_matrix[idx,j] = dip_matrix[j,idx] = min(dip_matrix[idx,j], p_value)\n",
    "                pbar.update(1)\n",
    "        return dip_matrix\n",
    "        \n",
    "    def Matrix2affine(self, matrix):\n",
    "        return (matrix.T/matrix.sum(axis=1)).T\n",
    "    \n",
    "    def update_labels(self, indices):\n",
    "        encoded_data = self.AE.encode(self.data)\n",
    "        encoded_centres = tf.expand_dims(self.AE.encode(self.centres),1)\n",
    "        D = np.sum(np.square(encoded_data-encoded_centres), axis=-1)\n",
    "        new_labels = np.argmin(D, axis=0)\n",
    "        self.labels[indices] = new_labels[indices]"
   ]
  },
  {
   "cell_type": "code",
   "execution_count": 9,
   "id": "4dc6a6c3",
   "metadata": {},
   "outputs": [
    {
     "data": {
      "text/plain": [
       "array([[76, 96, 70, 35, 35],\n",
       "       [61,  5, 71,  4, 65],\n",
       "       [45, 18,  9, 82, 59],\n",
       "       [ 7, 44, 49, 66, 55]])"
      ]
     },
     "execution_count": 9,
     "metadata": {},
     "output_type": "execute_result"
    }
   ],
   "source": [
    "A = np.random.randint(1,100, (4,5))\n",
    "A"
   ]
  },
  {
   "cell_type": "code",
   "execution_count": 10,
   "id": "78dee0e2",
   "metadata": {},
   "outputs": [
    {
     "data": {
      "text/plain": [
       "array([[76, 70, 35, 35],\n",
       "       [45,  9, 82, 59],\n",
       "       [ 7, 49, 66, 55]])"
      ]
     },
     "execution_count": 10,
     "metadata": {},
     "output_type": "execute_result"
    }
   ],
   "source": [
    "np.delete(np.delete(A, 1, axis=0),1,axis=1)"
   ]
  },
  {
   "cell_type": "markdown",
   "id": "32da8bcb-4e29-4aaa-b4f6-22316700235a",
   "metadata": {},
   "source": [
    "# Test"
   ]
  },
  {
   "cell_type": "code",
   "execution_count": 11,
   "id": "9718af45-baf3-403c-affa-9ea08f739167",
   "metadata": {},
   "outputs": [
    {
     "name": "stdout",
     "output_type": "stream",
     "text": [
      "(3000, 784)\n",
      "(10000, 784)\n"
     ]
    }
   ],
   "source": [
    "from keras.datasets import mnist\n",
    "(x_train, y_train), (x_test, y_test) = mnist.load_data()\n",
    "\n",
    "x_train = x_train.astype(np.float32)/255\n",
    "x_train = x_train.reshape((len(x_train), np.prod(x_train.shape[1:])))\n",
    "x_train = x_train[:3000]\n",
    "\n",
    "x_test = x_test.astype(np.float32)/255\n",
    "x_test = x_test.reshape((len(x_test), np.prod(x_test.shape[1:])))\n",
    "\n",
    "print(x_train.shape)\n",
    "print(x_test.shape)"
   ]
  },
  {
   "cell_type": "code",
   "execution_count": 4,
   "id": "4368cf89-830d-4e3f-9e95-0eb2e3329a7b",
   "metadata": {
    "scrolled": true,
    "tags": []
   },
   "outputs": [
    {
     "ename": "NameError",
     "evalue": "name 'x_train' is not defined",
     "output_type": "error",
     "traceback": [
      "\u001b[0;31m---------------------------------------------------------------------------\u001b[0m",
      "\u001b[0;31mNameError\u001b[0m                                 Traceback (most recent call last)",
      "\u001b[0;32m/var/folders/4y/bbmvrr0947l27qs2231j5f8w0000gn/T/ipykernel_47911/154734464.py\u001b[0m in \u001b[0;36m<module>\u001b[0;34m\u001b[0m\n\u001b[0;32m----> 1\u001b[0;31m \u001b[0mModel\u001b[0m \u001b[0;34m=\u001b[0m \u001b[0mDipDECK\u001b[0m\u001b[0;34m(\u001b[0m\u001b[0mx_train\u001b[0m\u001b[0;34m,\u001b[0m \u001b[0mk_init\u001b[0m\u001b[0;34m=\u001b[0m\u001b[0;36m15\u001b[0m\u001b[0;34m,\u001b[0m \u001b[0mN_EPOCHS\u001b[0m\u001b[0;34m=\u001b[0m\u001b[0;36m100\u001b[0m\u001b[0;34m)\u001b[0m\u001b[0;34m\u001b[0m\u001b[0;34m\u001b[0m\u001b[0m\n\u001b[0m",
      "\u001b[0;31mNameError\u001b[0m: name 'x_train' is not defined"
     ]
    }
   ],
   "source": [
    "Model = DipDECK(x_train, k_init=15, N_EPOCHS=100)"
   ]
  },
  {
   "cell_type": "code",
   "execution_count": 23,
   "id": "22f1d957-e191-4925-9891-8ac11d74bc77",
   "metadata": {},
   "outputs": [
    {
     "data": {
      "text/plain": [
       "<matplotlib.image.AxesImage at 0x22da32d8af0>"
      ]
     },
     "execution_count": 23,
     "metadata": {},
     "output_type": "execute_result"
    },
    {
     "data": {
      "image/png": "[encoded data removed]",
      "text/plain": [
       "<Figure size 432x288 with 1 Axes>"
      ]
     },
     "metadata": {
      "needs_background": "light"
     },
     "output_type": "display_data"
    }
   ],
   "source": [
    "plt.imshow(tf.math.confusion_matrix(y_train[:3000], Model.labels))"
   ]
  },
  {
   "cell_type": "code",
   "execution_count": 18,
   "id": "915d08e3-9ae6-4d1b-a29c-ccdf7bc2be2f",
   "metadata": {},
   "outputs": [
    {
     "data": {
      "application/vnd.jupyter.widget-view+json": {
       "model_id": "7e3011ca433a4b8e8eb391cc95e46256",
       "version_major": 2,
       "version_minor": 0
      },
      "text/plain": [
       "interactive(children=(IntSlider(value=0, description='i', max=9999), Output()), _dom_classes=('widget-interact…"
      ]
     },
     "metadata": {},
     "output_type": "display_data"
    },
    {
     "data": {
      "text/plain": [
       "<function __main__.f(i)>"
      ]
     },
     "execution_count": 18,
     "metadata": {},
     "output_type": "execute_result"
    }
   ],
   "source": [
    "from ipywidgets import interact\n",
    "import ipywidgets as widgets\n",
    "\n",
    "encoded_img = Model.AE.encoder.predict(x_test)\n",
    "decoded_img = Model.AE.decoder.predict(encoded_img)\n",
    "\n",
    "def f(i):\n",
    "    fig = plt.Figure(figsize=(10,10))\n",
    "    ax1 = fig.add_subplot(1,3,1)\n",
    "    ax2 = fig.add_subplot(1,3,2)\n",
    "    ax3 = fig.add_subplot(1,3,3)\n",
    "    ax1.axis('off')\n",
    "    # ax2.axis('off')\n",
    "    ax3.axis('off')\n",
    "    ax1.imshow(x_test[i].reshape(28,28), cmap='gray')\n",
    "    ax2.imshow(encoded_img[i].reshape(1,5), cmap='gray')\n",
    "    ax3.imshow(decoded_img[i].reshape(28,28), cmap='gray')\n",
    "    return fig\n",
    "    \n",
    "interact(f, i=widgets.IntSlider(min=0, max=9999, step=1, value=0))"
   ]
  },
  {
   "cell_type": "code",
   "execution_count": 17,
   "id": "2e76b86e-5421-482e-bfe3-8a2703acefe7",
   "metadata": {},
   "outputs": [
    {
     "data": {
      "application/vnd.jupyter.widget-view+json": {
       "model_id": "f5f6aeb697f0407d8778c1f35d203d6d",
       "version_major": 2,
       "version_minor": 0
      },
      "text/plain": [
       "interactive(children=(IntSlider(value=0, description='i', max=2), Output()), _dom_classes=('widget-interact',)…"
      ]
     },
     "metadata": {},
     "output_type": "display_data"
    },
    {
     "data": {
      "text/plain": [
       "<function __main__.g(i)>"
      ]
     },
     "execution_count": 17,
     "metadata": {},
     "output_type": "execute_result"
    }
   ],
   "source": [
    "encoded_img = Model.AE.encoder.predict(Model.centres)\n",
    "decoded_img = Model.AE.decoder.predict(encoded_img)\n",
    "\n",
    "def g(i):\n",
    "    fig = plt.Figure(figsize=(10,10))\n",
    "    ax1 = fig.add_subplot(1,3,1)\n",
    "    ax2 = fig.add_subplot(1,3,2)\n",
    "    ax3 = fig.add_subplot(1,3,3)\n",
    "    ax1.axis('off')\n",
    "    # ax2.axis('off')\n",
    "    ax3.axis('off')\n",
    "    ax1.imshow(x_test[i].reshape(28,28), cmap='gray')\n",
    "    ax2.imshow(encoded_img[i].reshape(1,5), cmap='gray')\n",
    "    ax3.imshow(decoded_img[i].reshape(28,28), cmap='gray')\n",
    "    return fig\n",
    "    \n",
    "interact(g, i=widgets.IntSlider(min=0, max=Model.k-1, step=1, value=0))"
   ]
  },
  {
   "cell_type": "code",
   "execution_count": null,
   "id": "3d87bb20-afce-4f9f-82b4-339e1d7fa8be",
   "metadata": {},
   "outputs": [],
   "source": []
  }
 ],
 "metadata": {
  "kernelspec": {
   "display_name": "py38",
   "language": "python",
   "name": "py38"
  },
  "language_info": {
   "codemirror_mode": {
    "name": "ipython",
    "version": 3
   },
   "file_extension": ".py",
   "mimetype": "text/x-python",
   "name": "python",
   "nbconvert_exporter": "python",
   "pygments_lexer": "ipython3",
   "version": "3.8.6"
  }
 },
 "nbformat": 4,
 "nbformat_minor": 5
}
